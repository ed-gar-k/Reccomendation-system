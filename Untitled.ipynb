{
 "cells": [
  {
   "cell_type": "markdown",
   "id": "4141865d-c2ea-4a68-8221-6a5ff604c030",
   "metadata": {},
   "source": [
    "## PHASE-4 PROJECT SUBMSISSION \n",
    "### GROUP-$ Members\n",
    "Name : Edgar Kiprono,Sarah Karanja,Denis Njogu,Alice Mumbi,Moschini Onyango,Brandon Muraya\n",
    "\n",
    "Student pace: DS-full time-Online\n",
    "\n",
    "Submission Date : 12/04/2024"
   ]
  },
  {
   "cell_type": "markdown",
   "id": "bbb3f5e2-9356-41e5-a83e-0aa28c042cd0",
   "metadata": {},
   "source": [
    "### PROJECT-RECOMMENDATION SYSTEMs"
   ]
  },
  {
   "cell_type": "code",
   "execution_count": null,
   "id": "a81b7356-e168-4ca5-8cbc-01c65443662f",
   "metadata": {},
   "outputs": [],
   "source": []
  }
 ],
 "metadata": {
  "kernelspec": {
   "display_name": "Python (learn-env)",
   "language": "python",
   "name": "learn-env"
  },
  "language_info": {
   "codemirror_mode": {
    "name": "ipython",
    "version": 3
   },
   "file_extension": ".py",
   "mimetype": "text/x-python",
   "name": "python",
   "nbconvert_exporter": "python",
   "pygments_lexer": "ipython3",
   "version": "3.10.14"
  }
 },
 "nbformat": 4,
 "nbformat_minor": 5
}
